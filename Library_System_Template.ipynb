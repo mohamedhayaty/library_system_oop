{
 "cells": [
  {
   "attachments": {},
   "cell_type": "markdown",
   "metadata": {},
   "source": [
    "[image.png](library.jpg)"
   ]
  },
  {
   "cell_type": "markdown",
   "metadata": {},
   "source": [
    "> ### Harry works in the library, Harry is tired of writing data in paper records so Harry decides to go digital.\n",
    "> ### Harry wants a program to do all the operations in the library.\n",
    "> ### Let's help Harry!"
   ]
  },
  {
   "cell_type": "markdown",
   "metadata": {},
   "source": [
    "# Task 1 : \n",
    "- #### task 1.1 Make Class(Library) with attributes:\n",
    "    - booksList  \n",
    "    - name of lirary  \n",
    "    - lended books (name of user, book) \n",
    "- #### task 1.2 Make method to display available Books.\n",
    "- #### task 1.3 Make method for books lending.\n",
    "    - Don't forget to check if book isn't already lended \n",
    "- #### task 1.4 Make method to add Book to library.\n",
    "- #### task 1.5 Make method to return borrowed book."
   ]
  },
  {
   "cell_type": "code",
   "execution_count": 14,
   "metadata": {},
   "outputs": [],
   "source": [
    "class library:\n",
    "    def __init__(self,books_list,name,lended_books_dic):\n",
    "        \n",
    "        self.books_list = books_list\n",
    "        self.name = name\n",
    "        self.lended_books_dic = lended_books_dic\n",
    "        \n",
    "    def display_all_books(self):\n",
    "        #print(books_list)\n",
    "        print(f'{self.name} has the following books: ')\n",
    "        for book in self.books_list:\n",
    "            print (book)\n",
    "    \n",
    "    def display_available_books(self):\n",
    "        print(f'{self.name} has the following books: ')\n",
    "        for book in self.books_list:\n",
    "            if book not in self.lended_books_dic.values():\n",
    "                print(book)\n",
    "                \n",
    "                \n",
    "    def len_book(self,book_name,user):\n",
    "        if book_name in self.books_list:\n",
    "            if book_name not in self.lended_books_dic :\n",
    "                self.lended_books_dic[book_name]=user\n",
    "                print(f'{user} has now {book_name}')\n",
    "            \n",
    "        \n",
    "            else:\n",
    "                print(f'{book_name} is already lended ') \n",
    "                \n",
    "            \n",
    "        else:\n",
    "            print(f'{book_name} is not in library') \n",
    "            \n",
    "            \n",
    "                \n",
    "    def add_book (self , book_name):\n",
    "        if book_name not in self.books_list:\n",
    "            self.books_list.append(book_name)\n",
    "            print(f'{book_name} has been added to the library')\n",
    "            \n",
    "            \n",
    "    def return_book(self,book_name):\n",
    "        if book_name in self.lended_books_dic :\n",
    "            self.lended_books_dic.remove(book_name)\n",
    "            print(f'{book_name} has been returned')\n",
    "         \n",
    "        \n",
    "        \n",
    "                  \n",
    "                  \n",
    "                  #for book in self.books_list:\n",
    "           # if new_book not in self.books_list \n",
    "        \n",
    "    #def available_books(self):\n",
    "        #available_books = books_list - lended_books_dic\n",
    "        #print(available_books)"
   ]
  },
  {
   "cell_type": "markdown",
   "metadata": {},
   "source": [
    "# Task 2 : \n",
    "- #### task 2.1 Make object(Harry) with attributes:\n",
    "    - booksList  = ['Python', 'Rich Daddy Poor Daddy', 'Harry Potter', 'C++ Basics', 'Algorithms by CLRS']\n",
    "    - name of lirary  = \"CodeWithHarry\"\n",
    "- #### task 2.2 Make program run with this choices. __(Don't forget the welcome message)__\n",
    "    - 1. Display Books\n",
    "    - 2. Lend a Book\n",
    "    - 3. Add a Book\n",
    "    - 4. Return a Book\n",
    "- #### task 2.3 Make prgram ends or continue."
   ]
  },
  {
   "cell_type": "code",
   "execution_count": 36,
   "metadata": {},
   "outputs": [
    {
     "name": "stdout",
     "output_type": "stream",
     "text": [
      "\n",
      "    1-Display Books\n",
      "    2-Lend a Book\n",
      "    3-Add a Book\n",
      "    4-Return a Book\n",
      "    \n",
      "Enter your choice: 5\n",
      "Invalid choice\n",
      "\n",
      "\n",
      "Do you want to continue ? (y/n)n\n",
      "Thank you\n"
     ]
    }
   ],
   "source": [
    "harry = library (\"CodeWithHarry\", ['Python', 'Rich Daddy Poor Daddy', 'Harry Potter', 'C++ Basics', 'Algorithms by CLRS'],{})\n",
    "\n",
    "while True :\n",
    "    print(\"\"\"\n",
    "    1-Display Books\n",
    "    2-Lend a Book\n",
    "    3-Add a Book\n",
    "    4-Return a Book\n",
    "    \"\"\")\n",
    "    \n",
    "    choice = input(\"Enter your choice: \")\n",
    "    if choice == \"1\":\n",
    "        harry.display_all_books()\n",
    "        \n",
    "    elif choice == \"2\" :\n",
    "        book_name = input(\"Enter the name of the book: \")\n",
    "        user = input(\"Enter your name please: \")\n",
    "        harry.len_book(book_name,user)\n",
    "        \n",
    "    elif choice == \"3\" :\n",
    "        book_name = input(\"Enter the name of the book: \")\n",
    "        harry.add_book(book_name)\n",
    "        \n",
    "    elif choice == \"4\" :\n",
    "        book_name = input(\"Enter the name of the book: \")\n",
    "        harry.return_book(book_name)\n",
    "        \n",
    "        \n",
    "    else:\n",
    "        print(\"Invalid choice\")\n",
    "        #continue\n",
    "        \n",
    "        print(\"\\n\")\n",
    "        user_choice= input(\"Do you want to continue ? (y/n)\")\n",
    "    \n",
    "        if user_choice == \"n\" :\n",
    "            print(\"Thank you\")\n",
    "            break\n",
    "            \n",
    "        \n",
    "        \n",
    "            \n",
    "            "
   ]
  },
  {
   "cell_type": "code",
   "execution_count": null,
   "metadata": {},
   "outputs": [],
   "source": []
  },
  {
   "cell_type": "code",
   "execution_count": null,
   "metadata": {},
   "outputs": [],
   "source": []
  }
 ],
 "metadata": {
  "kernelspec": {
   "display_name": "Python 3 (ipykernel)",
   "language": "python",
   "name": "python3"
  },
  "language_info": {
   "codemirror_mode": {
    "name": "ipython",
    "version": 3
   },
   "file_extension": ".py",
   "mimetype": "text/x-python",
   "name": "python",
   "nbconvert_exporter": "python",
   "pygments_lexer": "ipython3",
   "version": "3.9.7"
  },
  "vscode": {
   "interpreter": {
    "hash": "78c960279fecff9e244480132042affa22d495e3cfc64966045877e7ad2bb26d"
   }
  }
 },
 "nbformat": 4,
 "nbformat_minor": 4
}
